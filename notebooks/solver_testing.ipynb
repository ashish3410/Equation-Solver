{
 "cells": [
  {
   "cell_type": "markdown",
   "id": "265bbc36",
   "metadata": {},
   "source": [
    "# Solver Testing Notebook\n",
    "\n",
    "This notebook tests the solving functionality for linear and quadratic equations. It uses parsed equations from `sympy` and solves them using `sympy.solve`."
   ]
  },
  {
   "cell_type": "code",
   "execution_count": 2,
   "id": "e18180ab",
   "metadata": {},
   "outputs": [],
   "source": [
    "# Import necessary libraries\n",
    "from sympy import symbols, Eq, solve\n",
    "\n",
    "# Define a symbol for variables (e.g., x)\n",
    "x = symbols('x')"
   ]
  },
  {
   "cell_type": "markdown",
   "id": "c47ab60c",
   "metadata": {},
   "source": [
    "## Example Equations\n",
    "\n",
    "We will test the following parsed equations:\n",
    "- Linear equation: `x + 2 = 5`\n",
    "- Quadratic equation: `x^2 + 3*x + 2 = 0`\n",
    "- Quadratic equation: `2*x^2 - 4*x + 1 = 0`\n"
   ]
  },
  {
   "cell_type": "code",
   "execution_count": 3,
   "id": "e95d82e9",
   "metadata": {},
   "outputs": [],
   "source": [
    "# Define example parsed equations\n",
    "equations = [\n",
    "    Eq(x + 2, 5),\n",
    "    Eq(x**2 + 3*x + 2, 0),\n",
    "    Eq(2*x**2 - 4*x + 1, 0)\n",
    "]"
   ]
  },
  {
   "cell_type": "markdown",
   "id": "241040b2",
   "metadata": {},
   "source": [
    "## Solving Equations\n",
    "\n",
    "We will use `sympy.solve` to find solutions for each equation."
   ]
  },
  {
   "cell_type": "code",
   "execution_count": 4,
   "id": "99d50d0c",
   "metadata": {},
   "outputs": [
    {
     "data": {
      "text/plain": [
       "[[3], [-2, -1], [1 - sqrt(2)/2, sqrt(2)/2 + 1]]"
      ]
     },
     "execution_count": 4,
     "metadata": {},
     "output_type": "execute_result"
    }
   ],
   "source": [
    "# Solve each equation\n",
    "def solve_equation(equation):\n",
    "    \"\"\"\n",
    "    Solve a given symbolic equation and return solutions.\n",
    "    \"\"\"\n",
    "    return solve(equation, x)\n",
    "\n",
    "# Solve all example equations\n",
    "solutions = [solve_equation(eq) for eq in equations]\n",
    "solutions"
   ]
  },
  {
   "cell_type": "markdown",
   "id": "1c6bccff",
   "metadata": {},
   "source": [
    "## Display Solutions\n",
    "\n",
    "The solutions below correspond to the equations tested."
   ]
  },
  {
   "cell_type": "code",
   "execution_count": 5,
   "id": "a51ac0e4",
   "metadata": {},
   "outputs": [
    {
     "name": "stdout",
     "output_type": "stream",
     "text": [
      "Equation: Eq(x + 2, 5)\n",
      "Solutions: [3]\n",
      "\n",
      "Equation: Eq(x**2 + 3*x + 2, 0)\n",
      "Solutions: [-2, -1]\n",
      "\n",
      "Equation: Eq(2*x**2 - 4*x + 1, 0)\n",
      "Solutions: [1 - sqrt(2)/2, sqrt(2)/2 + 1]\n",
      "\n"
     ]
    }
   ],
   "source": [
    "# Display solutions\n",
    "for eq, sol in zip(equations, solutions):\n",
    "    print(f\"Equation: {eq}\")\n",
    "    print(f\"Solutions: {sol}\\n\")"
   ]
  },
  {
   "cell_type": "markdown",
   "id": "db1de75a",
   "metadata": {},
   "source": [
    "## Conclusion\n",
    "\n",
    "This notebook demonstrates the solving process for linear and quadratic equations. Additional tests can be added to validate edge cases or more complex scenarios."
   ]
  }
 ],
 "metadata": {
  "kernelspec": {
   "display_name": "Python 3",
   "language": "python",
   "name": "python3"
  },
  "language_info": {
   "codemirror_mode": {
    "name": "ipython",
    "version": 3
   },
   "file_extension": ".py",
   "mimetype": "text/x-python",
   "name": "python",
   "nbconvert_exporter": "python",
   "pygments_lexer": "ipython3",
   "version": "3.8.10"
  }
 },
 "nbformat": 4,
 "nbformat_minor": 5
}
