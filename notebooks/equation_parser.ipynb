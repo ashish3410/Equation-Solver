{
 "cells": [
  {
   "cell_type": "markdown",
   "metadata": {},
   "source": [
    "# Equation Parser Exploration\n",
    "\n",
    "This notebook explores methods to parse linear and quadratic equations provided as text input and convert them into symbolic forms that can be solved programmatically."
   ]
  },
  {
   "cell_type": "code",
   "execution_count": 1,
   "metadata": {},
   "outputs": [],
   "source": [
    "# Import necessary libraries\n",
    "from sympy import symbols, Eq, sympify\n",
    "import re\n",
    "\n",
    "# Define a symbol for variables (e.g., x)\n",
    "x = symbols('x')"
   ]
  },
  {
   "cell_type": "markdown",
   "metadata": {},
   "source": [
    "## Example Equations\n",
    "\n",
    "We will test the following equations:\n",
    "- `x + 2 = 5`\n",
    "- `x^2 + 3*x + 2 = 0`\n",
    "- `2*x^2 - 4*x + 1 = 0`\n"
   ]
  },
  {
   "cell_type": "code",
   "execution_count": 2,
   "metadata": {},
   "outputs": [],
   "source": [
    "# Example equations as strings\n",
    "equations = [\n",
    "    \"x + 2 = 5\",\n",
    "    \"x^2 + 3*x + 2 = 0\",\n",
    "    \"2*x^2 - 4*x + 1 = 0\"\n",
    "]"
   ]
  },
  {
   "cell_type": "markdown",
   "metadata": {},
   "source": [
    "## Parsing Equations\n",
    "\n",
    "We will use `sympy.sympify` to convert the string equations into symbolic equations that can be solved."
   ]
  },
  {
   "cell_type": "code",
   "execution_count": 3,
   "metadata": {},
   "outputs": [
    {
     "data": {
      "text/plain": [
       "[Eq(x + 2, 5), Eq(x**2 + 3*x + 2, 0), Eq(2*x**2 - 4*x + 1, 0)]"
      ]
     },
     "execution_count": 3,
     "metadata": {},
     "output_type": "execute_result"
    }
   ],
   "source": [
    "def parse_equation(equation_str):\n",
    "    \"\"\"\n",
    "    Parse a string equation into a symbolic form.\n",
    "    \"\"\"\n",
    "    # Split the equation into LHS and RHS\n",
    "    lhs, rhs = equation_str.split('=')\n",
    "    # Convert to symbolic equation\n",
    "    return Eq(sympify(lhs), sympify(rhs))\n",
    "\n",
    "# Parse each equation\n",
    "parsed_equations = [parse_equation(eq) for eq in equations]\n",
    "parsed_equations"
   ]
  },
  {
   "cell_type": "markdown",
   "metadata": {},
   "source": [
    "## Display Parsed Equations\n",
    "\n",
    "The output below shows the symbolic representation of the equations."
   ]
  },
  {
   "cell_type": "code",
   "execution_count": 4,
   "metadata": {},
   "outputs": [
    {
     "data": {
      "text/latex": [
       "$\\displaystyle x + 2 = 5$"
      ],
      "text/plain": [
       "Eq(x + 2, 5)"
      ]
     },
     "metadata": {},
     "output_type": "display_data"
    },
    {
     "data": {
      "text/latex": [
       "$\\displaystyle x^{2} + 3 x + 2 = 0$"
      ],
      "text/plain": [
       "Eq(x**2 + 3*x + 2, 0)"
      ]
     },
     "metadata": {},
     "output_type": "display_data"
    },
    {
     "data": {
      "text/latex": [
       "$\\displaystyle 2 x^{2} - 4 x + 1 = 0$"
      ],
      "text/plain": [
       "Eq(2*x**2 - 4*x + 1, 0)"
      ]
     },
     "metadata": {},
     "output_type": "display_data"
    }
   ],
   "source": [
    "# Display parsed equations\n",
    "for eq in parsed_equations:\n",
    "    display(eq)"
   ]
  },
  {
   "cell_type": "markdown",
   "metadata": {},
   "source": [
    "## Next Steps\n",
    "\n",
    "Now that we have the parsed equations, they can be solved using `sympy.solve`. This will be explored in the solver pipeline."
   ]
  }
 ],
 "metadata": {
  "kernelspec": {
   "display_name": "Python 3",
   "language": "python",
   "name": "python3"
  },
  "language_info": {
   "codemirror_mode": {
    "name": "ipython",
    "version": 3
   },
   "file_extension": ".py",
   "mimetype": "text/x-python",
   "name": "python",
   "nbconvert_exporter": "python",
   "pygments_lexer": "ipython3",
   "version": "3.13.0"
  }
 },
 "nbformat": 4,
 "nbformat_minor": 5
}
